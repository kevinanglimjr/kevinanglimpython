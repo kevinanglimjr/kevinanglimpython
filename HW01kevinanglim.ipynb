{
  "nbformat": 4,
  "nbformat_minor": 0,
  "metadata": {
    "colab": {
      "provenance": [],
      "include_colab_link": true
    },
    "kernelspec": {
      "name": "python3",
      "display_name": "Python 3"
    },
    "language_info": {
      "name": "python"
    }
  },
  "cells": [
    {
      "cell_type": "markdown",
      "metadata": {
        "id": "view-in-github",
        "colab_type": "text"
      },
      "source": [
        "<a href=\"https://colab.research.google.com/github/kevinanglimjr/kevinanglimpython/blob/main/HW01kevinanglim.ipynb\" target=\"_parent\"><img src=\"https://colab.research.google.com/assets/colab-badge.svg\" alt=\"Open In Colab\"/></a>"
      ]
    },
    {
      "cell_type": "markdown",
      "source": [
        "# HW 01"
      ],
      "metadata": {
        "id": "JaguTAItuC48"
      }
    },
    {
      "cell_type": "markdown",
      "source": [
        "### Q1. Write a program to input your age and print whether you are more than or less than a billion seconds old."
      ],
      "metadata": {
        "id": "8N08oInsuN8g"
      }
    },
    {
      "cell_type": "code",
      "source": [],
      "metadata": {
        "id": "cMVa4tAd8HtM",
        "outputId": "6da4d893-fa93-4ca8-f7e8-337698ac08ce",
        "colab": {
          "base_uri": "https://localhost:8080/"
        }
      },
      "execution_count": 1,
      "outputs": [
        {
          "output_type": "stream",
          "name": "stdout",
          "text": [
            "Enter your age in years: 22\n",
            "You are less than a billion seconds old.\n"
          ]
        }
      ]
    },
    {
      "cell_type": "code",
      "execution_count": 2,
      "metadata": {
        "id": "KlPvWPxRuCVz",
        "colab": {
          "base_uri": "https://localhost:8080/"
        },
        "outputId": "5b5b550f-7e4a-4edf-ac0b-099911fdedcc"
      },
      "outputs": [
        {
          "output_type": "stream",
          "name": "stdout",
          "text": [
            "Enter your age in years: 22\n",
            "You are less than a billion seconds old.\n"
          ]
        }
      ],
      "source": [
        "## Enter answer here.\n",
        "\n",
        "age_in_years = int(input(\"Enter your age in years: \"))\n",
        "\n",
        "seconds_in_a_year = 365.25 * 24 * 60 * 60  # Account for leap years\n",
        "\n",
        "age_in_seconds = age_in_years * seconds_in_a_year\n",
        "\n",
        "if age_in_seconds > 1000000000:\n",
        "    print(\"You are more than a billion seconds old.\")\n",
        "else:\n",
        "    print(\"You are less than a billion seconds old.\")\n",
        "\n"
      ]
    },
    {
      "cell_type": "markdown",
      "source": [
        "### Q2. Create a list with 10 names. Print each name with a Good morning greeting with the name using a conditional loop.\n",
        "\n",
        "For example\n",
        "\n",
        "`name = ['Ashley', 'Brianna', 'Chetan', 'David', 'Eoin', 'Francois', 'Gemma', 'Hameed', 'Ishaan', 'Joanna']`\n",
        "\n",
        "Outputs will be 'Good morning, Ashley', 'Good morning, Brianna', and so on."
      ],
      "metadata": {
        "id": "X3IPYLTgvnDh"
      }
    },
    {
      "cell_type": "code",
      "source": [
        "\n"
      ],
      "metadata": {
        "id": "9VbZNM4t8TsV"
      },
      "execution_count": null,
      "outputs": []
    },
    {
      "cell_type": "code",
      "source": [
        "## Enter answer here.\n",
        "\n",
        "\n",
        "name = ['Ashley', 'Brianna', 'Chetan', 'David', 'Eoin', 'Francois', 'Gemma', 'Hameed', 'Ishaan', 'Joanna']\n",
        "\n",
        "for i in range(len(name)):\n",
        "  print(f\"Good morning, {name[i]}\")\n"
      ],
      "metadata": {
        "id": "MFG2cvatvmr2",
        "colab": {
          "base_uri": "https://localhost:8080/"
        },
        "outputId": "5dd000c4-c9a3-4f47-859f-81e1d4c8b61a"
      },
      "execution_count": 3,
      "outputs": [
        {
          "output_type": "stream",
          "name": "stdout",
          "text": [
            "Good morning, Ashley\n",
            "Good morning, Brianna\n",
            "Good morning, Chetan\n",
            "Good morning, David\n",
            "Good morning, Eoin\n",
            "Good morning, Francois\n",
            "Good morning, Gemma\n",
            "Good morning, Hameed\n",
            "Good morning, Ishaan\n",
            "Good morning, Joanna\n"
          ]
        }
      ]
    },
    {
      "cell_type": "markdown",
      "source": [
        "### Q3. Create a list of 15 numbers. Print only those numbers that are divisible by 2."
      ],
      "metadata": {
        "id": "niM878Jrx1bf"
      }
    },
    {
      "cell_type": "code",
      "source": [
        "\n"
      ],
      "metadata": {
        "id": "tCMLxs3B8pw2"
      },
      "execution_count": null,
      "outputs": []
    },
    {
      "cell_type": "code",
      "source": [
        "numbers = list(range(1, 16))  # You can replace this with any 15 numbers\n",
        "\n",
        "# Print numbers divisible by 2\n",
        "for number in numbers:\n",
        "  if number % 2 == 0:\n",
        "    print(number)"
      ],
      "metadata": {
        "id": "m7XjkMn8uUY2",
        "colab": {
          "base_uri": "https://localhost:8080/"
        },
        "outputId": "f09504e2-20bd-466e-c02f-bd5bbf8e1b35"
      },
      "execution_count": 9,
      "outputs": [
        {
          "output_type": "stream",
          "name": "stdout",
          "text": [
            "2\n",
            "4\n",
            "6\n",
            "8\n",
            "10\n",
            "12\n",
            "14\n"
          ]
        }
      ]
    },
    {
      "cell_type": "markdown",
      "source": [
        "### Q4. Print the squared numbers of a list containing at least 10 numbers with a mix of float, integer, and negative numbers. Use the longer method as well as list comprehension.\n",
        "\n",
        "You can either generate your own list of 10 numbers or find use a random number generator."
      ],
      "metadata": {
        "id": "u1kyA9ksy_JI"
      }
    },
    {
      "cell_type": "code",
      "source": [],
      "metadata": {
        "id": "4c1Fmz1N9kK5"
      },
      "execution_count": null,
      "outputs": []
    },
    {
      "cell_type": "markdown",
      "source": [],
      "metadata": {
        "id": "9LnatoVJ9u78"
      }
    },
    {
      "cell_type": "code",
      "source": [
        "import random\n",
        "\n",
        "# Generate a list of 10 random numbers (mix of float, int, and negative)\n",
        "numbers = [random.uniform(-10, 10) for _ in range(10)]\n",
        "\n",
        "# Longer method\n",
        "squared_numbers_long = []\n",
        "for number in numbers:\n",
        "  squared_numbers_long.append(number**2)\n",
        "\n",
        "print(\"Squared numbers (longer method):\", squared_numbers_long)\n",
        "\n",
        "# List comprehension\n",
        "squared_numbers_comprehension = [number**2 for number in numbers]\n",
        "\n",
        "print(\"Squared numbers (list comprehension):\", squared_numbers_comprehension)"
      ],
      "metadata": {
        "colab": {
          "base_uri": "https://localhost:8080/"
        },
        "id": "UFHMdDgEuUbD",
        "outputId": "14906f0f-57bf-4658-a254-b27f7023003c"
      },
      "execution_count": 10,
      "outputs": [
        {
          "output_type": "stream",
          "name": "stdout",
          "text": [
            "Squared numbers (longer method): [1.8336904759934545, 40.99052031604626, 52.979872095049565, 41.19090164580825, 27.1440123323377, 91.69997251103307, 17.325923877491128, 41.62005372291309, 77.7397258922586, 5.961451153889374]\n",
            "Squared numbers (list comprehension): [1.8336904759934545, 40.99052031604626, 52.979872095049565, 41.19090164580825, 27.1440123323377, 91.69997251103307, 17.325923877491128, 41.62005372291309, 77.7397258922586, 5.961451153889374]\n"
          ]
        }
      ]
    },
    {
      "cell_type": "markdown",
      "source": [
        "### Q5. Write a program to print a year if it is a leap year."
      ],
      "metadata": {
        "id": "0ZBlFovqA7G9"
      }
    },
    {
      "cell_type": "markdown",
      "source": [],
      "metadata": {
        "id": "OK1ctUfqA6mP"
      }
    },
    {
      "cell_type": "code",
      "source": [
        "year = int(input())\n",
        "\n",
        "if year%4 == 0:\n",
        "    print(year, \"is a leap year\")\n",
        "else:\n",
        "    print(year, \"is not a leap year\")"
      ],
      "metadata": {
        "id": "QwfOIh36uUeM",
        "colab": {
          "base_uri": "https://localhost:8080/"
        },
        "outputId": "00c4513c-357d-4bba-a8b2-a9b87e988b60"
      },
      "execution_count": 12,
      "outputs": [
        {
          "output_type": "stream",
          "name": "stdout",
          "text": [
            "2025\n",
            "2025 is not a leap year\n"
          ]
        }
      ]
    },
    {
      "cell_type": "markdown",
      "source": [
        "### Q6. Use list comprensions to print all names in a list in upper case.\n",
        "\n",
        "> Add blockquote\n",
        "\n"
      ],
      "metadata": {
        "id": "_FRSvLlgArOJ"
      }
    },
    {
      "cell_type": "code",
      "source": [
        "\n",
        "names = ['Ashley', 'Brianna', 'Chetan', 'David', 'Eoin', 'Francois', 'Gemma', 'Hameed', 'Ishaan', 'Joanna']\n",
        "upper_case_names = [name.upper() for name in names]\n",
        "upper_case_names\n"
      ],
      "metadata": {
        "id": "CwPIZcFQuUhD",
        "colab": {
          "base_uri": "https://localhost:8080/"
        },
        "outputId": "bf753f90-05b5-403f-db34-b286e7fc4f78"
      },
      "execution_count": 13,
      "outputs": [
        {
          "output_type": "execute_result",
          "data": {
            "text/plain": [
              "['ASHLEY',\n",
              " 'BRIANNA',\n",
              " 'CHETAN',\n",
              " 'DAVID',\n",
              " 'EOIN',\n",
              " 'FRANCOIS',\n",
              " 'GEMMA',\n",
              " 'HAMEED',\n",
              " 'ISHAAN',\n",
              " 'JOANNA']"
            ]
          },
          "metadata": {},
          "execution_count": 13
        }
      ]
    },
    {
      "cell_type": "markdown",
      "source": [
        "### Q7. Question on NUMPY arrays:\n",
        "\n",
        "a. Create a numpy array called `original` with 100 random numbers. What is the largest number, smallest number, max, min, median, and standard deviation of your array? Print them.\n",
        "\n",
        "HINT: use `np.random.uniform()`. Check online for the correct syntax. `np.random.rand(100)` will give you 100 random numbers of uniform distribution with mean 0 and standard deviation of 1, while we want a mix of larger numbers/integers.\n",
        "\n",
        "b. Now create an array called `orig_sqrt` which contains the square roots of the numbers in the original array.\n",
        "\n",
        "### Q8.  Converting 1D arrays into 2D arrays.\n",
        "\n",
        "a. Convert your original array of 100 random numbers into a 2-dimensional array called `mat_array` with 20 rows and 5 columns. Print this array.\n",
        "\n",
        "b. What is the mean of every column in `mat_array`?\n",
        "\n",
        "c. What is the sum of every row? Create a list of 20 elements that contains the sum of every row in `mat_array`.\n",
        "\n",
        "d. Create the transpose of `mat_array` and call it `transpose_array`. What are the dimensions of this array now? Again, find the mean of each column and the sum of each row.\n",
        "\n",
        "### Q9. Array slicing:\n",
        "\n",
        "a. create a new array which contains the 3rd-10th rows and all columns of `mat_array`. Print.\n",
        "\n",
        "b. Print a new array which contains the the last 5 rows and the last 2 columns of `mat_array`. What is the dimension of this array?\n",
        "\n",
        "c. Print a new array which contains the first 3 rows and last 10 columns of `transpose_array`."
      ],
      "metadata": {
        "id": "ulp3oxOZHt5r"
      }
    },
    {
      "cell_type": "code",
      "source": [
        "# Write your answer here. Feel free to break your answer into different blocks of code rather than using just this one cell. Label your answer neatly.\n",
        "import numpy as np\n",
        "\n"
      ],
      "metadata": {
        "id": "M6EBbfr7Iaas"
      },
      "execution_count": null,
      "outputs": []
    },
    {
      "cell_type": "code",
      "source": [
        "# prompt: Q7.\n",
        "import numpy as np # Add this line to import numpy\n",
        "\n",
        "# a. Create a numpy array called original with 100 random numbers.\n",
        "original = np.random.uniform(low=-100, high=100, size=100)\n",
        "\n",
        "# Calculate statistics\n",
        "largest_number = np.max(original)\n",
        "smallest_number = np.min(original)\n",
        "max_value = np.max(original)\n",
        "min_value = np.min(original)\n",
        "median_value = np.median(original)\n",
        "std_dev = np.std(original)\n",
        "\n",
        "# Print the results\n",
        "print(\"Largest Number:\", largest_number)\n",
        "print(\"Smallest Number:\", smallest_number)\n",
        "print(\"Max:\", max_value)\n",
        "print(\"Min:\", min_value)\n",
        "print(\"Median:\", median_value)\n",
        "print(\"Standard Deviation:\", std_dev)\n",
        "\n",
        "# b. Create an array called orig_sqrt\n",
        "orig_sqrt = np.sqrt(original)"
      ],
      "metadata": {
        "id": "lJWRxuplJ1R-",
        "colab": {
          "base_uri": "https://localhost:8080/"
        },
        "outputId": "d37f7560-77ed-44c3-d48d-653d1176fb65"
      },
      "execution_count": 15,
      "outputs": [
        {
          "output_type": "stream",
          "name": "stdout",
          "text": [
            "Largest Number: 99.560297122273\n",
            "Smallest Number: -99.60189608643282\n",
            "Max: 99.560297122273\n",
            "Min: -99.60189608643282\n",
            "Median: -4.372627867089513\n",
            "Standard Deviation: 58.803013882941684\n"
          ]
        },
        {
          "output_type": "stream",
          "name": "stderr",
          "text": [
            "<ipython-input-15-833f3c2b2816>:24: RuntimeWarning: invalid value encountered in sqrt\n",
            "  orig_sqrt = np.sqrt(original)\n"
          ]
        }
      ]
    },
    {
      "cell_type": "code",
      "source": [
        "# prompt: Q8.\n",
        "\n",
        "# a. Convert the original array into a 2D array (20 rows, 5 columns)\n",
        "mat_array = original.reshape(20, 5)\n",
        "print(\"mat_array:\\n\", mat_array)\n",
        "\n",
        "# b. Mean of every column in mat_array\n",
        "column_means = np.mean(mat_array, axis=0)\n",
        "print(\"\\nMean of each column:\\n\", column_means)\n",
        "\n",
        "# c. Sum of every row and create a list\n",
        "row_sums = np.sum(mat_array, axis=1)\n",
        "row_sums_list = list(row_sums)\n",
        "print(\"\\nSum of each row:\\n\", row_sums_list)\n",
        "\n",
        "# d. Transpose of mat_array\n",
        "transpose_array = mat_array.T\n",
        "print(\"\\nDimensions of transpose_array:\", transpose_array.shape)\n",
        "\n",
        "# Mean of each column of transpose_array\n",
        "column_means_transpose = np.mean(transpose_array, axis=0)\n",
        "print(\"\\nMean of each column (transpose):\\n\", column_means_transpose)\n",
        "\n",
        "# Sum of each row of transpose_array\n",
        "row_sums_transpose = np.sum(transpose_array, axis=1)\n",
        "print(\"\\nSum of each row (transpose):\\n\", row_sums_transpose)\n"
      ],
      "metadata": {
        "id": "FDYDgwc1Lyy1",
        "colab": {
          "base_uri": "https://localhost:8080/"
        },
        "outputId": "59b9b1cf-8ffe-4562-bf71-dddedcb4f9fc"
      },
      "execution_count": 16,
      "outputs": [
        {
          "output_type": "stream",
          "name": "stdout",
          "text": [
            "mat_array:\n",
            " [[ 8.73087333e+01  9.95602971e+01 -5.14049168e+00  9.28883321e+01\n",
            "  -9.96018961e+01]\n",
            " [-4.39537663e+01 -1.93909810e+01  2.73627135e+01 -4.33359839e+01\n",
            "  -4.84851084e+01]\n",
            " [ 6.90854721e-02 -8.84610022e+01  9.10468065e+01 -5.92047352e+01\n",
            "   7.79263727e-01]\n",
            " [ 4.23134520e+01  9.46752537e+01 -6.93005244e+01  9.70154253e+01\n",
            "   5.37758832e+01]\n",
            " [-6.99559795e+01 -9.06265312e+01  4.27995885e+01 -8.88824842e+01\n",
            "  -7.66681016e+01]\n",
            " [-1.55923741e+01 -4.10812919e+01 -1.20944161e+01  1.20936137e+01\n",
            "   1.38761711e+01]\n",
            " [-8.78376377e+01 -1.61501729e+00  3.43812548e+01  9.80041969e+01\n",
            "   5.16568184e+01]\n",
            " [-1.48830164e+00 -6.35703096e+01  1.99249130e+01 -7.94336289e+01\n",
            "  -9.77482388e+01]\n",
            " [ 9.17600028e+00 -3.25275028e+01 -1.18155657e+01 -8.86080693e+01\n",
            "   1.99833477e+01]\n",
            " [ 5.55570838e+01 -9.76532920e+01 -5.93415706e+01  9.39717370e+01\n",
            "  -4.03066838e+00]\n",
            " [-5.60242649e+01 -8.60711894e+01  9.18724276e+01  3.09169496e+01\n",
            "   7.41874700e+00]\n",
            " [ 4.65102435e+01  5.46408430e+01  4.27305644e+01 -2.87557493e+01\n",
            "   2.31070921e+01]\n",
            " [-1.05968972e+01 -3.25568536e+01  6.96690867e+01  1.48446722e+01\n",
            "  -6.68710593e+01]\n",
            " [-4.97193421e+01 -4.69324108e+01 -1.85276952e+01  7.57712667e+01\n",
            "   2.43918116e+01]\n",
            " [-1.72561806e+01 -7.35115157e+01  6.31222538e+01 -2.71681088e+01\n",
            "  -9.29933964e+01]\n",
            " [-7.87904699e+01  9.26673032e+01 -6.14820961e+01 -8.68359472e+01\n",
            "  -4.71458736e+00]\n",
            " [ 5.73593678e+01  5.45435148e+01  3.97811878e+01  7.66521429e+00\n",
            "  -6.98220821e+01]\n",
            " [ 5.87470262e+01 -2.47573425e+01  9.74102356e+01 -5.23089396e+01\n",
            "  -1.90577252e+01]\n",
            " [ 7.59286825e+01 -4.94385493e+01 -1.17345400e+01  1.11287329e+01\n",
            "   8.91918485e+01]\n",
            " [-1.10967033e+01  3.15666764e+01 -4.61729404e-01  6.92428815e+01\n",
            "  -3.06592313e+01]]\n",
            "\n",
            "Mean of each column:\n",
            " [ -0.46711211 -16.02699504  18.51012015   2.45046879 -16.32355558]\n",
            "\n",
            "Sum of each row:\n",
            " [175.01497469834624, -127.80312606464034, -55.77058169799278, 218.47948984417624, -283.3335081530371, -42.79829724280914, 94.58961505465682, -222.3155659328308, -103.79178979952857, -11.496710106317849, -11.887330064232344, 138.23299377042838, -25.511051103337962, -15.016369763431442, -147.80694778708147, -139.1557974384873, 89.52720259515229, 60.03325465557661, 115.07617460088517, 58.591893998330335]\n",
            "\n",
            "Dimensions of transpose_array: (5, 20)\n",
            "\n",
            "Mean of each column (transpose):\n",
            " [ 35.00299494 -25.56062521 -11.15411634  43.69589797 -56.66670163\n",
            "  -8.55965945  18.91792301 -44.46311319 -20.75835796  -2.29934202\n",
            "  -2.37746601  27.64659875  -5.10221022  -3.00327395 -29.56138956\n",
            " -27.83115949  17.90544052  12.00665093  23.01523492  11.7183788 ]\n",
            "\n",
            "Sum of each row (transpose):\n",
            " [  -9.34224229 -320.5399009   370.2024031    49.00937578 -326.47111163]\n"
          ]
        }
      ]
    },
    {
      "cell_type": "code",
      "source": [
        "# prompt: Q9.\n",
        "\n",
        "# a. 3rd-10th rows and all columns of mat_array\n",
        "new_array_a = mat_array[2:10, :]  # Remember that indexing starts from 0\n",
        "print(\"New array (a):\\n\", new_array_a)\n",
        "\n",
        "# b. Last 5 rows and last 2 columns of mat_array\n",
        "new_array_b = mat_array[-5:, -2:]\n",
        "print(\"\\nNew array (b):\\n\", new_array_b)\n",
        "print(\"\\nDimensions of new array (b):\", new_array_b.shape)\n",
        "\n",
        "# c. First 3 rows and last 10 columns of transpose_array\n",
        "new_array_c = transpose_array[:3, -10:]\n",
        "print(\"\\nNew array (c):\\n\", new_array_c)\n"
      ],
      "metadata": {
        "id": "vyV9N3jpLyqP",
        "colab": {
          "base_uri": "https://localhost:8080/"
        },
        "outputId": "25bdd968-c094-48f6-f264-fde8e2b111ff"
      },
      "execution_count": 17,
      "outputs": [
        {
          "output_type": "stream",
          "name": "stdout",
          "text": [
            "New array (a):\n",
            " [[ 6.90854721e-02 -8.84610022e+01  9.10468065e+01 -5.92047352e+01\n",
            "   7.79263727e-01]\n",
            " [ 4.23134520e+01  9.46752537e+01 -6.93005244e+01  9.70154253e+01\n",
            "   5.37758832e+01]\n",
            " [-6.99559795e+01 -9.06265312e+01  4.27995885e+01 -8.88824842e+01\n",
            "  -7.66681016e+01]\n",
            " [-1.55923741e+01 -4.10812919e+01 -1.20944161e+01  1.20936137e+01\n",
            "   1.38761711e+01]\n",
            " [-8.78376377e+01 -1.61501729e+00  3.43812548e+01  9.80041969e+01\n",
            "   5.16568184e+01]\n",
            " [-1.48830164e+00 -6.35703096e+01  1.99249130e+01 -7.94336289e+01\n",
            "  -9.77482388e+01]\n",
            " [ 9.17600028e+00 -3.25275028e+01 -1.18155657e+01 -8.86080693e+01\n",
            "   1.99833477e+01]\n",
            " [ 5.55570838e+01 -9.76532920e+01 -5.93415706e+01  9.39717370e+01\n",
            "  -4.03066838e+00]]\n",
            "\n",
            "New array (b):\n",
            " [[-86.83594725  -4.71458736]\n",
            " [  7.66521429 -69.82208211]\n",
            " [-52.30893958 -19.05772518]\n",
            " [ 11.12873293  89.19184846]\n",
            " [ 69.24288153 -30.65923128]]\n",
            "\n",
            "Dimensions of new array (b): (5, 2)\n",
            "\n",
            "New array (c):\n",
            " [[-56.02426491  46.51024349 -10.59689716 -49.71934208 -17.25618064\n",
            "  -78.79046993  57.35936783  58.74702624  75.92868253 -11.09670327]\n",
            " [-86.07118942  54.64084304 -32.5568536  -46.93241078 -73.51151571\n",
            "   92.66730325  54.54351479 -24.75734247 -49.43854928  31.56667643]\n",
            " [ 91.87242764  42.73056443  69.66908675 -18.52769524  63.12225376\n",
            "  -61.48209615  39.78118779  97.41023564 -11.73454004  -0.4617294 ]]\n"
          ]
        }
      ]
    },
    {
      "cell_type": "code",
      "source": [],
      "metadata": {
        "id": "at-4INjLLyei"
      },
      "execution_count": null,
      "outputs": []
    },
    {
      "cell_type": "markdown",
      "source": [
        "### Q10. Assume you are inviting 15 friends to your party. You guest list has the following dietary preference.\n",
        "\n",
        "`diet = ['vegetarian', 'pescetarian', 'vegetarian', 'omnivore', 'pescetarian', 'keto', 'keto', 'vegan', 'omnivore', 'omnivore', 'vegan', 'omnivore', 'keto, 'vegetarian', 'vegan']`\n",
        "\n",
        "Their ages are as follows:\n",
        "\n",
        "`age = [21, 20, 19, 25, 27, 18, 23, 25, 19, 22, 20, 20, 23, 21, 24]`\n",
        "\n",
        "Create a list called `menu` which will contain 'veg. fried rice with whiskey' for vegans and vegetarians aged 21 and above,  'veg. fried rice with mocktail' for vegans and vegetarians aged below 21. Follow the same logic and assign fish and white wine to pescetarians of legal age (and fish with mocktail to those below 21). Keto and omnivore guests above 21 will have 'steak and red wine'. Complete the series with the appropriate drink for underage guests."
      ],
      "metadata": {
        "id": "cIhCARNRLzKy"
      }
    },
    {
      "cell_type": "code",
      "source": [
        "# prompt: Q10.\n",
        "\n",
        "diet = ['vegetarian', 'pescetarian', 'vegetarian', 'omnivore', 'pescetarian', 'keto', 'keto', 'vegan', 'omnivore', 'omnivore', 'vegan', 'omnivore', 'keto', 'vegetarian', 'vegan']\n",
        "age = [21, 20, 19, 25, 27, 18, 23, 25, 19, 22, 20, 20, 23, 21, 24]\n",
        "\n",
        "menu = []\n",
        "for i in range(len(diet)):\n",
        "  if diet[i] in ('vegetarian', 'vegan'):\n",
        "    if age[i] >= 21:\n",
        "      menu.append('veg. fried rice with whiskey')\n",
        "    else:\n",
        "      menu.append('veg. fried rice with mocktail')\n",
        "  elif diet[i] == 'pescetarian':\n",
        "    if age[i] >= 21:\n",
        "      menu.append('fish and white wine')\n",
        "    else:\n",
        "      menu.append('fish with mocktail')\n",
        "  elif diet[i] in ('keto', 'omnivore'):\n",
        "    if age[i] >= 21:\n",
        "      menu.append('steak and red wine')\n",
        "    else:\n",
        "      menu.append('steak and red wine') # Assuming underage keto/omnivores also get steak but no alcohol\n",
        "\n",
        "menu\n"
      ],
      "metadata": {
        "id": "b6tWsT-T_P04",
        "outputId": "8e230c85-5455-41bc-ebeb-916dcbca61c4",
        "colab": {
          "base_uri": "https://localhost:8080/"
        }
      },
      "execution_count": 18,
      "outputs": [
        {
          "output_type": "execute_result",
          "data": {
            "text/plain": [
              "['veg. fried rice with whiskey',\n",
              " 'fish with mocktail',\n",
              " 'veg. fried rice with mocktail',\n",
              " 'steak and red wine',\n",
              " 'fish and white wine',\n",
              " 'steak and red wine',\n",
              " 'steak and red wine',\n",
              " 'veg. fried rice with whiskey',\n",
              " 'steak and red wine',\n",
              " 'steak and red wine',\n",
              " 'veg. fried rice with mocktail',\n",
              " 'steak and red wine',\n",
              " 'steak and red wine',\n",
              " 'veg. fried rice with whiskey',\n",
              " 'veg. fried rice with whiskey']"
            ]
          },
          "metadata": {},
          "execution_count": 18
        }
      ]
    },
    {
      "cell_type": "code",
      "source": [
        "# Write your answer here.\n",
        "import numpy as np\n",
        "\n"
      ],
      "metadata": {
        "id": "P7Xuiz6JOR5_"
      },
      "execution_count": null,
      "outputs": []
    }
  ]
}